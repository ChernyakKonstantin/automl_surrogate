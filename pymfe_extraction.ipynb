{
 "cells": [
  {
   "cell_type": "code",
   "execution_count": 1,
   "metadata": {},
   "outputs": [],
   "source": [
    "import warnings\n",
    "warnings.filterwarnings('ignore')"
   ]
  },
  {
   "cell_type": "code",
   "execution_count": null,
   "metadata": {},
   "outputs": [],
   "source": [
    "from pymfe.mfe import MFE\n",
    "import numpy as np\n",
    "import pandas as pd"
   ]
  },
  {
   "cell_type": "code",
   "execution_count": 3,
   "metadata": {},
   "outputs": [],
   "source": [
    "mfe_kwargs = {\n",
    "    \"features\":\n",
    "            [\"attr_ent\", \"class_ent\", \"eq_num_attr\", \"joint_ent\", \"mut_inf\", \"ns_ratio\", \"eigenvalues\", \"g_mean\", \"gravity\", \"kurtosis\",\n",
    "            \"max\", \"mean\", \"min\", \"nr_cor_attr\", \"nr_norm\", \"range\",\n",
    "            \"sd_ratio\",\"skewness\", \"var\", \"attr_to_inst\", \"cat_to_num\",\n",
    "            \"freq_class\", \"inst_to_attr\", \"nr_attr\", \"nr_cat\", \"nr_class\", \"nr_inst\", \"nr_num\", \"num_to_cat\"],\n",
    "    \"summary\":\n",
    "            \"mean\"\n",
    "}"
   ]
  },
  {
   "cell_type": "code",
   "execution_count": 4,
   "metadata": {},
   "outputs": [],
   "source": [
    "import pickle\n",
    "\n",
    "with open(\"/home/cherniak/itmo_job/GAMLET/data/no_meta_features_and_fedot_pipelines_raw/id2dataset_id.pickle\", \"rb\") as f:\n",
    "    id2dataset_id = pickle.load(f)"
   ]
  },
  {
   "cell_type": "code",
   "execution_count": 5,
   "metadata": {},
   "outputs": [
    {
     "name": "stderr",
     "output_type": "stream",
     "text": [
      "100%|██████████| 101/101 [02:48<00:00,  1.67s/it]\n"
     ]
    }
   ],
   "source": [
    "import os\n",
    "from tqdm import tqdm\n",
    "\n",
    "\n",
    "folds_folder = \"/home/cherniak/itmo_job/datasets_folds\"\n",
    "\n",
    "meta_features = {}\n",
    "for id, dataset_id in tqdm(id2dataset_id.items()):\n",
    "    dataset_name, dataset_fold = dataset_id.split(\"_\")\n",
    "    x_fname = f\"train_{dataset_name}_fold{dataset_fold}.npy\"\n",
    "    y_fname = f\"trainy_{dataset_name}_fold{dataset_fold}.npy\"\n",
    "    x = np.load(os.path.join(folds_folder, x_fname))\n",
    "    y = np.load(os.path.join(folds_folder, y_fname))\n",
    "    mfe = MFE(**mfe_kwargs, num_cv_folds=1)\n",
    "    mfe.fit(x, y)\n",
    "    ft = mfe.extract()\n",
    "    ft = {k: v for k,v in zip(*ft)}\n",
    "    meta_features[dataset_id] = ft"
   ]
  },
  {
   "cell_type": "code",
   "execution_count": null,
   "metadata": {},
   "outputs": [],
   "source": [
    "df = pd.DataFrame.from_dict(meta_features).T\n",
    "print(df.isna().sum())\n",
    "df.describe()"
   ]
  },
  {
   "cell_type": "code",
   "execution_count": null,
   "metadata": {},
   "outputs": [],
   "source": [
    "to_drop = [\"cat_to_num\", \"nr_cat\", \"num_to_cat\", \"nr_norm\"]\n",
    "df = df.drop(to_drop, axis=1)\n",
    "df = df.dropna(axis=1)"
   ]
  },
  {
   "cell_type": "code",
   "execution_count": 6,
   "metadata": {},
   "outputs": [],
   "source": [
    "df.to_csv(\"/home/cherniak/itmo_job/GAMLET/data/meta_features_and_fedot_pipelines/pymfe.csv\", index=True)"
   ]
  }
 ],
 "metadata": {
  "kernelspec": {
   "display_name": "gamlet",
   "language": "python",
   "name": "python3"
  },
  "language_info": {
   "codemirror_mode": {
    "name": "ipython",
    "version": 3
   },
   "file_extension": ".py",
   "mimetype": "text/x-python",
   "name": "python",
   "nbconvert_exporter": "python",
   "pygments_lexer": "ipython3",
   "version": "3.10.13"
  }
 },
 "nbformat": 4,
 "nbformat_minor": 2
}
